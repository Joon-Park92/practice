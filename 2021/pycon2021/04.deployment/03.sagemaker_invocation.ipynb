{
 "cells": [
  {
   "cell_type": "markdown",
   "metadata": {},
   "source": [
    "## Invoke w/ boto3"
   ]
  },
  {
   "cell_type": "code",
   "execution_count": 1,
   "metadata": {},
   "outputs": [
    {
     "name": "stdout",
     "output_type": "stream",
     "text": [
      "[5.155298343055017]\n"
     ]
    }
   ],
   "source": [
    "import json \n",
    "import boto3 \n",
    "from tqdm import tqdm\n",
    "client = boto3.client('runtime.sagemaker')\n",
    " \n",
    "data = {\n",
    "    \"columns\":[\"alcohol\", \"chlorides\", \"citric acid\", \"density\", \"fixed acidity\", \"free sulfur dioxide\", \"pH\", \"residual sugar\", \"sulphates\", \"total sulfur dioxide\", \"volatile acidity\"],\"data\":[[12.8, 0.029, 0.48, 0.98, 6.2, 29, 3.33, 1.2, 0.39, 75, 0.66]]}\n",
    "\n",
    "response = client.invoke_endpoint(EndpointName='mlflow-sean-test',\n",
    "                                  ContentType='application/json; format=pandas-split',\n",
    "                                  Body=json.dumps(data))\n",
    "response_body = response['Body'] \n",
    "print(response_body.read().decode('utf-8'))"
   ]
  },
  {
   "cell_type": "markdown",
   "metadata": {},
   "source": [
    "## Invoke w/ sigv4\n",
    "\n",
    "Ref : https://docs.aws.amazon.com/AmazonS3/latest/API/sigv4-auth-using-authorization-header.html  "
   ]
  },
  {
   "cell_type": "code",
   "execution_count": 7,
   "metadata": {},
   "outputs": [
    {
     "name": "stdout",
     "output_type": "stream",
     "text": [
      "\n",
      "BEGIN REQUEST++++++++++++++++++++++++++++++++++++\n",
      "Request URL = https://runtime.sagemaker.ap-northeast-2.amazonaws.com/endpoints/mlflow-sean-test/invocations\n",
      "\n",
      "RESPONSE++++++++++++++++++++++++++++++++++++\n",
      "Response code: 403\n",
      "\n",
      "{\"Message\":\"User: arn:aws:iam::526094755604:user/slayer@mathpresso.com is not authorized to perform: sagemaker:InvokeEndpoint on resource: arn:aws:sagemaker:ap-northeast-2:526094755604:endpoint/mlflow-sean-test with an explicit deny\"}\n"
     ]
    }
   ],
   "source": [
    "import sys, os, base64, datetime, hashlib, hmac \n",
    "import requests\n",
    "\n",
    "def sign(key, msg):\n",
    "    return hmac.new(key, msg.encode(\"utf-8\"), hashlib.sha256).digest()\n",
    "\n",
    "def getSignatureKey(key, date_stamp, regionName, serviceName):\n",
    "    kDate = sign(('AWS4' + key).encode('utf-8'), date_stamp)\n",
    "    kRegion = sign(kDate, regionName)\n",
    "    kService = sign(kRegion, serviceName)\n",
    "    kSigning = sign(kService, 'aws4_request')\n",
    "    return kSigning\n",
    "\n",
    "method = 'POST'\n",
    "service = 'sagemaker'\n",
    "\n",
    "host = 'runtime.sagemaker.ap-northeast-2.amazonaws.com'\n",
    "region = 'ap-northeast-2'\n",
    "endpoint = 'https://runtime.sagemaker.ap-northeast-2.amazonaws.com/endpoints/mlflow-sean-test/invocations'\n",
    "content_type = 'application/x-amz-json-1.0'\n",
    "request_parameters = json.dumps({\n",
    "    \"columns\":[\"alcohol\", \"chlorides\", \"citric acid\", \"density\", \"fixed acidity\", \"free sulfur dioxide\", \"pH\", \"residual sugar\", \"sulphates\", \"total sulfur dioxide\", \"volatile acidity\"],\"data\":[[12.8, 0.029, 0.48, 0.98, 6.2, 29, 3.33, 1.2, 0.39, 75, 0.66]]})\n",
    "\n",
    "access_key = os.environ.get('AWS_ACCESS_KEY_ID')\n",
    "secret_key = os.environ.get('AWS_SECRET_ACCESS_KEY')\n",
    "\n",
    "if access_key is None or secret_key is None:\n",
    "    print('No access key is available.')\n",
    "    sys.exit()\n",
    "\n",
    "t = datetime.datetime.utcnow()\n",
    "amz_date = t.strftime('%Y%m%dT%H%M%SZ')\n",
    "date_stamp = t.strftime('%Y%m%d') \n",
    "\n",
    "canonical_uri = '/endpoints/mlflow-sean-test/invocations'\n",
    "canonical_querystring = ''\n",
    "canonical_headers = 'content-type:' + content_type + '\\n' + 'host:' + host + '\\n' + 'x-amz-date:' + amz_date + '\\n'\n",
    "\n",
    "signed_headers = 'content-type;host;x-amz-date'\n",
    "payload_hash = hashlib.sha256(request_parameters.encode('utf-8')).hexdigest()\n",
    "\n",
    "canonical_request = method + '\\n' + canonical_uri + '\\n' + canonical_querystring + '\\n' + canonical_headers + '\\n' + signed_headers + '\\n' + payload_hash\n",
    "\n",
    "algorithm = 'AWS4-HMAC-SHA256'\n",
    "credential_scope = date_stamp + '/' + region + '/' + service + '/' + 'aws4_request'\n",
    "string_to_sign = algorithm + '\\n' +  amz_date + '\\n' +  credential_scope + '\\n' +  hashlib.sha256(canonical_request.encode('utf-8')).hexdigest()\n",
    "\n",
    "signing_key = getSignatureKey(secret_key, date_stamp, region, service)\n",
    "signature = hmac.new(signing_key, (string_to_sign).encode('utf-8'), hashlib.sha256).hexdigest()\n",
    "\n",
    "authorization_header = algorithm + ' ' + 'Credential=' + access_key + '/' + credential_scope + ', ' +  'SignedHeaders=' + signed_headers + ', ' + 'Signature=' + signature\n",
    "headers = {'Content-Type':content_type,\n",
    "           'X-Amz-Date':amz_date,\n",
    "           'Authorization':authorization_header}\n",
    "\n",
    "# ************* SEND THE REQUEST *************\n",
    "print('\\nBEGIN REQUEST++++++++++++++++++++++++++++++++++++')\n",
    "print('Request URL = ' + endpoint)\n",
    "\n",
    "r = requests.post(endpoint, data=request_parameters, headers=headers)\n",
    "\n",
    "print('\\nRESPONSE++++++++++++++++++++++++++++++++++++')\n",
    "print('Response code: %d\\n' % r.status_code)\n",
    "print(r.text)"
   ]
  }
 ],
 "metadata": {
  "kernelspec": {
   "display_name": "Python 3",
   "language": "python",
   "name": "python3"
  },
  "language_info": {
   "codemirror_mode": {
    "name": "ipython",
    "version": 3
   },
   "file_extension": ".py",
   "mimetype": "text/x-python",
   "name": "python",
   "nbconvert_exporter": "python",
   "pygments_lexer": "ipython3",
   "version": "3.6.5"
  }
 },
 "nbformat": 4,
 "nbformat_minor": 4
}
