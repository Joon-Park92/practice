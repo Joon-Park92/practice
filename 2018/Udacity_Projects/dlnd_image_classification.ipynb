{
 "cells": [
  {
   "cell_type": "markdown",
   "metadata": {
    "collapsed": true
   },
   "source": [
    "# Image Classification\n",
    "In this project, you'll classify images from the [CIFAR-10 dataset](https://www.cs.toronto.edu/~kriz/cifar.html).  The dataset consists of airplanes, dogs, cats, and other objects. You'll preprocess the images, then train a convolutional neural network on all the samples. The images need to be normalized and the labels need to be one-hot encoded.  You'll get to apply what you learned and build a convolutional, max pooling, dropout, and fully connected layers.  At the end, you'll get to see your neural network's predictions on the sample images.\n",
    "## Get the Data\n",
    "Run the following cell to download the [CIFAR-10 dataset for python](https://www.cs.toronto.edu/~kriz/cifar-10-python.tar.gz)."
   ]
  },
  {
   "cell_type": "code",
   "execution_count": 1,
   "metadata": {},
   "outputs": [
    {
     "name": "stderr",
     "output_type": "stream",
     "text": [
      "CIFAR-10 Dataset: 171MB [00:22, 7.58MB/s]                               \n"
     ]
    },
    {
     "name": "stdout",
     "output_type": "stream",
     "text": [
      "All files found!\n"
     ]
    }
   ],
   "source": [
    "\"\"\"\n",
    "DON'T MODIFY ANYTHING IN THIS CELL THAT IS BELOW THIS LINE\n",
    "\"\"\"\n",
    "from urllib.request import urlretrieve\n",
    "from os.path import isfile, isdir\n",
    "from tqdm import tqdm\n",
    "import problem_unittests as tests\n",
    "import tarfile\n",
    "\n",
    "cifar10_dataset_folder_path = 'cifar-10-batches-py'\n",
    "\n",
    "# Use Floyd's cifar-10 dataset if present\n",
    "floyd_cifar10_location = '/input/cifar-10/python.tar.gz'\n",
    "if isfile(floyd_cifar10_location):\n",
    "    tar_gz_path = floyd_cifar10_location\n",
    "else:\n",
    "    tar_gz_path = 'cifar-10-python.tar.gz'\n",
    "\n",
    "class DLProgress(tqdm):\n",
    "    last_block = 0\n",
    "\n",
    "    def hook(self, block_num=1, block_size=1, total_size=None):\n",
    "        self.total = total_size\n",
    "        self.update((block_num - self.last_block) * block_size)\n",
    "        self.last_block = block_num\n",
    "\n",
    "if not isfile(tar_gz_path):\n",
    "    with DLProgress(unit='B', unit_scale=True, miniters=1, desc='CIFAR-10 Dataset') as pbar:\n",
    "        urlretrieve(\n",
    "            'https://www.cs.toronto.edu/~kriz/cifar-10-python.tar.gz',\n",
    "            tar_gz_path,\n",
    "            pbar.hook)\n",
    "\n",
    "if not isdir(cifar10_dataset_folder_path):\n",
    "    with tarfile.open(tar_gz_path) as tar:\n",
    "        tar.extractall()\n",
    "        tar.close()\n",
    "\n",
    "\n",
    "tests.test_folder_path(cifar10_dataset_folder_path)"
   ]
  },
  {
   "cell_type": "markdown",
   "metadata": {},
   "source": [
    "## Explore the Data\n",
    "The dataset is broken into batches to prevent your machine from running out of memory.  The CIFAR-10 dataset consists of 5 batches, named `data_batch_1`, `data_batch_2`, etc.. Each batch contains the labels and images that are one of the following:\n",
    "* airplane\n",
    "* automobile\n",
    "* bird\n",
    "* cat\n",
    "* deer\n",
    "* dog\n",
    "* frog\n",
    "* horse\n",
    "* ship\n",
    "* truck\n",
    "\n",
    "Understanding a dataset is part of making predictions on the data.  Play around with the code cell below by changing the `batch_id` and `sample_id`. The `batch_id` is the id for a batch (1-5). The `sample_id` is the id for a image and label pair in the batch.\n",
    "\n",
    "Ask yourself \"What are all possible labels?\", \"What is the range of values for the image data?\", \"Are the labels in order or random?\".  Answers to questions like these will help you preprocess the data and end up with better predictions."
   ]
  },
  {
   "cell_type": "code",
   "execution_count": 2,
   "metadata": {},
   "outputs": [
    {
     "name": "stdout",
     "output_type": "stream",
     "text": [
      "\n",
      "Stats of batch 1:\n",
      "Samples: 10000\n",
      "Label Counts: {0: 1005, 1: 974, 2: 1032, 3: 1016, 4: 999, 5: 937, 6: 1030, 7: 1001, 8: 1025, 9: 981}\n",
      "First 20 Labels: [6, 9, 9, 4, 1, 1, 2, 7, 8, 3, 4, 7, 7, 2, 9, 9, 9, 3, 2, 6]\n",
      "\n",
      "Example of Image 5:\n",
      "Image - Min Value: 0 Max Value: 252\n",
      "Image - Shape: (32, 32, 3)\n",
      "Label - Label Id: 1 Name: automobile\n"
     ]
    },
    {
     "data": {
      "image/png": "[encoded data removed]",
      "text/plain": [
       "<matplotlib.figure.Figure at 0x7fc28bf61cc0>"
      ]
     },
     "metadata": {
      "image/png": {
       "height": 250,
       "width": 253
      }
     },
     "output_type": "display_data"
    }
   ],
   "source": [
    "%matplotlib inline\n",
    "%config InlineBackend.figure_format = 'retina'\n",
    "\n",
    "import helper\n",
    "import numpy as np\n",
    "from sklearn.preprocessing import label_binarize\n",
    "\n",
    "# Explore the dataset\n",
    "batch_id = 1\n",
    "sample_id = 5\n",
    "helper.display_stats(cifar10_dataset_folder_path, batch_id, sample_id)"
   ]
  },
  {
   "cell_type": "markdown",
   "metadata": {},
   "source": [
    "## Implement Preprocess Functions\n",
    "### Normalize\n",
    "In the cell below, implement the `normalize` function to take in image data, `x`, and return it as a normalized Numpy array. The values should be in the range of 0 to 1, inclusive.  The return object should be the same shape as `x`."
   ]
  },
  {
   "cell_type": "code",
   "execution_count": 3,
   "metadata": {},
   "outputs": [
    {
     "name": "stdout",
     "output_type": "stream",
     "text": [
      "Tests Passed\n"
     ]
    }
   ],
   "source": [
    "def normalize(x):\n",
    "    \"\"\"\n",
    "    Normalize a list of sample image data in the range of 0 to 1\n",
    "    : x: List of image data.  The image shape is (32, 32, 3)\n",
    "    : return: Numpy array of normalize data\n",
    "    \"\"\"    \n",
    "    sample_num = len(x)    \n",
    "    unrolled = x.reshape(sample_num,-1)\n",
    "    return ((unrolled-np.min(unrolled,axis=0)) / (np.max(unrolled,axis=0)-np.min(unrolled ,axis=0))).reshape(sample_num,32,32,3)    \n",
    "\n",
    "\"\"\"\n",
    "DON'T MODIFY ANYTHING IN THIS CELL THAT IS BELOW THIS LINE\n",
    "\"\"\"\n",
    "tests.test_normalize(normalize)"
   ]
  },
  {
   "cell_type": "markdown",
   "metadata": {},
   "source": [
    "### One-hot encode\n",
    "Just like the previous code cell, you'll be implementing a function for preprocessing.  This time, you'll implement the `one_hot_encode` function. The input, `x`, are a list of labels.  Implement the function to return the list of labels as One-Hot encoded Numpy array.  The possible values for labels are 0 to 9. The one-hot encoding function should return the same encoding for each value between each call to `one_hot_encode`.  Make sure to save the map of encodings outside the function.\n",
    "\n",
    "Hint: Don't reinvent the wheel."
   ]
  },
  {
   "cell_type": "code",
   "execution_count": 4,
   "metadata": {},
   "outputs": [
    {
     "name": "stdout",
     "output_type": "stream",
     "text": [
      "Tests Passed\n"
     ]
    }
   ],
   "source": [
    "def one_hot_encode(x):\n",
    "    \"\"\"\n",
    "    One hot encode a list of sample labels. Return a one-hot encoded vector for each label.\n",
    "    : x: List of sample Labels\n",
    "    : return: Numpy array of one-hot encoded labels\n",
    "    \"\"\"\n",
    "    # TODO: Implement Function    \n",
    "    return label_binarize(x,classes = np.arange(10))\n",
    "\"\"\"\n",
    "DON'T MODIFY ANYTHING IN THIS CELL THAT IS BELOW THIS LINE\n",
    "\"\"\"\n",
    "tests.test_one_hot_encode(one_hot_encode)"
   ]
  },
  {
   "cell_type": "markdown",
   "metadata": {},
   "source": [
    "### Randomize Data\n",
    "As you saw from exploring the data above, the order of the samples are randomized.  It doesn't hurt to randomize it again, but you don't need to for this dataset."
   ]
  },
  {
   "cell_type": "markdown",
   "metadata": {},
   "source": [
    "## Preprocess all the data and save it\n",
    "Running the code cell below will preprocess all the CIFAR-10 data and save it to file. The code below also uses 10% of the training data for validation."
   ]
  },
  {
   "cell_type": "code",
   "execution_count": 5,
   "metadata": {
    "collapsed": true
   },
   "outputs": [],
   "source": [
    "\"\"\"\n",
    "DON'T MODIFY ANYTHING IN THIS CELL\n",
    "\"\"\"\n",
    "# Preprocess Training, Validation, and Testing Data\n",
    "helper.preprocess_and_save_data(cifar10_dataset_folder_path, normalize, one_hot_encode)"
   ]
  },
  {
   "cell_type": "markdown",
   "metadata": {},
   "source": [
    "# Check Point\n",
    "This is your first checkpoint.  If you ever decide to come back to this notebook or have to restart the notebook, you can start from here.  The preprocessed data has been saved to disk."
   ]
  },
  {
   "cell_type": "code",
   "execution_count": 6,
   "metadata": {
    "collapsed": true
   },
   "outputs": [],
   "source": [
    "\"\"\"\n",
    "DON'T MODIFY ANYTHING IN THIS CELL\n",
    "\"\"\"\n",
    "import pickle\n",
    "import problem_unittests as tests\n",
    "import helper\n",
    "\n",
    "# Load the Preprocessed Validation data\n",
    "valid_features, valid_labels = pickle.load(open('preprocess_validation.p', mode='rb'))"
   ]
  },
  {
   "cell_type": "markdown",
   "metadata": {},
   "source": [
    "## Build the network\n",
    "For the neural network, you'll build each layer into a function.  Most of the code you've seen has been outside of functions. To test your code more thoroughly, we require that you put each layer in a function.  This allows us to give you better feedback and test for simple mistakes using our unittests before you submit your project.\n",
    "\n",
    ">**Note:** If you're finding it hard to dedicate enough time for this course each week, we've provided a small shortcut to this part of the project. In the next couple of problems, you'll have the option to use classes from the [TensorFlow Layers](https://www.tensorflow.org/api_docs/python/tf/layers) or [TensorFlow Layers (contrib)](https://www.tensorflow.org/api_guides/python/contrib.layers) packages to build each layer, except the layers you build in the \"Convolutional and Max Pooling Layer\" section.  TF Layers is similar to Keras's and TFLearn's abstraction to layers, so it's easy to pickup.\n",
    "\n",
    ">However, if you would like to get the most out of this course, try to solve all the problems _without_ using anything from the TF Layers packages. You **can** still use classes from other packages that happen to have the same name as ones you find in TF Layers! For example, instead of using the TF Layers version of the `conv2d` class, [tf.layers.conv2d](https://www.tensorflow.org/api_docs/python/tf/layers/conv2d), you would want to use the TF Neural Network version of `conv2d`, [tf.nn.conv2d](https://www.tensorflow.org/api_docs/python/tf/nn/conv2d). \n",
    "\n",
    "Let's begin!\n",
    "\n",
    "### Input\n",
    "The neural network needs to read the image data, one-hot encoded labels, and dropout keep probability. Implement the following functions\n",
    "* Implement `neural_net_image_input`\n",
    " * Return a [TF Placeholder](https://www.tensorflow.org/api_docs/python/tf/placeholder)\n",
    " * Set the shape using `image_shape` with batch size set to `None`.\n",
    " * Name the TensorFlow placeholder \"x\" using the TensorFlow `name` parameter in the [TF Placeholder](https://www.tensorflow.org/api_docs/python/tf/placeholder).\n",
    "* Implement `neural_net_label_input`\n",
    " * Return a [TF Placeholder](https://www.tensorflow.org/api_docs/python/tf/placeholder)\n",
    " * Set the shape using `n_classes` with batch size set to `None`.\n",
    " * Name the TensorFlow placeholder \"y\" using the TensorFlow `name` parameter in the [TF Placeholder](https://www.tensorflow.org/api_docs/python/tf/placeholder).\n",
    "* Implement `neural_net_keep_prob_input`\n",
    " * Return a [TF Placeholder](https://www.tensorflow.org/api_docs/python/tf/placeholder) for dropout keep probability.\n",
    " * Name the TensorFlow placeholder \"keep_prob\" using the TensorFlow `name` parameter in the [TF Placeholder](https://www.tensorflow.org/api_docs/python/tf/placeholder).\n",
    "\n",
    "These names will be used at the end of the project to load your saved model.\n",
    "\n",
    "Note: `None` for shapes in TensorFlow allow for a dynamic size."
   ]
  },
  {
   "cell_type": "code",
   "execution_count": 7,
   "metadata": {},
   "outputs": [
    {
     "name": "stdout",
     "output_type": "stream",
     "text": [
      "Image Input Tests Passed.\n",
      "Label Input Tests Passed.\n",
      "Keep Prob Tests Passed.\n"
     ]
    }
   ],
   "source": [
    "import tensorflow as tf\n",
    "\n",
    "def neural_net_image_input(image_shape):\n",
    "    \"\"\"\n",
    "    Return a Tensor for a batch of image input\n",
    "    : image_shape: Shape of the images\n",
    "    : return: Tensor for image input.\n",
    "    \"\"\"\n",
    "    # TODO: Implement Function\n",
    "    \n",
    "    out = tf.placeholder(tf.float32,shape=[None, image_shape[0],image_shape[1],image_shape[2]],name='x')    \n",
    "    return out\n",
    "\n",
    "\n",
    "def neural_net_label_input(n_classes):\n",
    "    \"\"\"\n",
    "    Return a Tensor for a batch of label input\n",
    "    : n_classes: Number of classes\n",
    "    : return: Tensor for label input.\n",
    "    \"\"\"\n",
    "    out = tf.placeholder(tf.float32,shape=[None, n_classes],name='y')\n",
    "    return out\n",
    "\n",
    "\n",
    "def neural_net_keep_prob_input():\n",
    "    \"\"\"\n",
    "    Return a Tensor for keep probability\n",
    "    : return: Tensor for keep probability.\n",
    "    \"\"\"\n",
    "    # TODO: Implement Function\n",
    "    out = tf.placeholder(tf.float32,name='keep_prob')\n",
    "    return out\n",
    "\n",
    "\n",
    "\"\"\"\n",
    "DON'T MODIFY ANYTHING IN THIS CELL THAT IS BELOW THIS LINE\n",
    "\"\"\"\n",
    "tf.reset_default_graph()\n",
    "tests.test_nn_image_inputs(neural_net_image_input)\n",
    "tests.test_nn_label_inputs(neural_net_label_input)\n",
    "tests.test_nn_keep_prob_inputs(neural_net_keep_prob_input)"
   ]
  },
  {
   "cell_type": "markdown",
   "metadata": {},
   "source": [
    "### Convolution and Max Pooling Layer\n",
    "Convolution layers have a lot of success with images. For this code cell, you should implement the function `conv2d_maxpool` to apply convolution then max pooling:\n",
    "* Create the weight and bias using `conv_ksize`, `conv_num_outputs` and the shape of `x_tensor`.\n",
    "* Apply a convolution to `x_tensor` using weight and `conv_strides`.\n",
    " * We recommend you use same padding, but you're welcome to use any padding.\n",
    "* Add bias\n",
    "* Add a nonlinear activation to the convolution.\n",
    "* Apply Max Pooling using `pool_ksize` and `pool_strides`.\n",
    " * We recommend you use same padding, but you're welcome to use any padding.\n",
    "\n",
    "**Note:** You **can't** use [TensorFlow Layers](https://www.tensorflow.org/api_docs/python/tf/layers) or [TensorFlow Layers (contrib)](https://www.tensorflow.org/api_guides/python/contrib.layers) for **this** layer, but you can still use TensorFlow's [Neural Network](https://www.tensorflow.org/api_docs/python/tf/nn) package. You may still use the shortcut option for all the **other** layers."
   ]
  },
  {
   "cell_type": "code",
   "execution_count": 8,
   "metadata": {},
   "outputs": [
    {
     "name": "stdout",
     "output_type": "stream",
     "text": [
      "Tests Passed\n"
     ]
    }
   ],
   "source": [
    "def conv2d_maxpool(x_tensor, conv_num_outputs, conv_ksize, conv_strides, pool_ksize, pool_strides):\n",
    "    \"\"\"\n",
    "    Apply convolution then max pooling to x_tensor\n",
    "    :param x_tensor: TensorFlow Tensor\n",
    "    :param conv_num_outputs: Number of outputs for the convolutional layer\n",
    "    :param conv_ksize: kernal size 2-D Tuple for the convolutional layer\n",
    "    :param conv_strides: Stride 2-D Tuple for convolution\n",
    "    :param pool_ksize: kernal size 2-D Tuple for pool\n",
    "    :param pool_strides: Stride 2-D Tuple for pool\n",
    "    : return: A tensor that represents convolution and max pooling of x_tensor\n",
    "    \"\"\"\n",
    "    # TODO: Implement Function\n",
    "            \n",
    "    x_tensor_shape = x_tensor.get_shape().as_list()\n",
    "    \n",
    "    weight = tf.Variable(tf.truncated_normal([conv_ksize[0],conv_ksize[1], \n",
    "                                              x_tensor_shape[3],conv_num_outputs],stddev=conv_num_outputs**(-0.5)))\n",
    "    \n",
    "    bias = tf.Variable(tf.truncated_normal([conv_num_outputs],stddev=conv_num_outputs**(-0.5)))\n",
    "    \n",
    "    \n",
    "    layer = tf.nn.conv2d(x_tensor,weight,strides=[1,conv_strides[0],conv_strides[1],1],padding='SAME')\n",
    "    layer = tf.add(layer,bias)\n",
    "    \n",
    "    layer = tf.nn.max_pool(layer,ksize=[1,pool_ksize[0],pool_ksize[1],1],\n",
    "                   strides = [1,pool_strides[0],pool_strides[1],1],padding = 'SAME')\n",
    "    \n",
    "    layer = tf.nn.relu(layer)\n",
    "\n",
    "    return layer\n",
    "\n",
    "\n",
    "\"\"\"\n",
    "DON'T MODIFY ANYTHING IN THIS CELL THAT IS BELOW THIS LINE\n",
    "\"\"\"\n",
    "tests.test_con_pool(conv2d_maxpool)"
   ]
  },
  {
   "cell_type": "markdown",
   "metadata": {},
   "source": [
    "### Flatten Layer\n",
    "Implement the `flatten` function to change the dimension of `x_tensor` from a 4-D tensor to a 2-D tensor.  The output should be the shape (*Batch Size*, *Flattened Image Size*). Shortcut option: you can use classes from the [TensorFlow Layers](https://www.tensorflow.org/api_docs/python/tf/layers) or [TensorFlow Layers (contrib)](https://www.tensorflow.org/api_guides/python/contrib.layers) packages for this layer. For more of a challenge, only use other TensorFlow packages."
   ]
  },
  {
   "cell_type": "code",
   "execution_count": 9,
   "metadata": {},
   "outputs": [
    {
     "name": "stdout",
     "output_type": "stream",
     "text": [
      "Tests Passed\n"
     ]
    }
   ],
   "source": [
    "def flatten(x_tensor):\n",
    "    \"\"\"\n",
    "    Flatten x_tensor to (Batch Size, Flattened Image Size)\n",
    "    : x_tensor: A tensor of size (Batch Size, ...), where ... are the image dimensions.\n",
    "    : return: A tensor of size (Batch Size, Flattened Image Size).\n",
    "    \"\"\"\n",
    "    x_tensor_shape = x_tensor.get_shape().as_list()\n",
    "    img_size = (x_tensor_shape[1]*x_tensor_shape[2]*x_tensor_shape[3])    \n",
    "    \n",
    "    flat = tf.reshape(x_tensor, shape = [-1,img_size])\n",
    "    return flat\n",
    "\n",
    "\"\"\"\n",
    "DON'T MODIFY ANYTHING IN THIS CELL THAT IS BELOW THIS LINE\n",
    "\"\"\"\n",
    "tests.test_flatten(flatten)"
   ]
  },
  {
   "cell_type": "markdown",
   "metadata": {},
   "source": [
    "### Fully-Connected Layer\n",
    "Implement the `fully_conn` function to apply a fully connected layer to `x_tensor` with the shape (*Batch Size*, *num_outputs*). Shortcut option: you can use classes from the [TensorFlow Layers](https://www.tensorflow.org/api_docs/python/tf/layers) or [TensorFlow Layers (contrib)](https://www.tensorflow.org/api_guides/python/contrib.layers) packages for this layer. For more of a challenge, only use other TensorFlow packages."
   ]
  },
  {
   "cell_type": "code",
   "execution_count": 10,
   "metadata": {},
   "outputs": [
    {
     "name": "stdout",
     "output_type": "stream",
     "text": [
      "Tests Passed\n"
     ]
    }
   ],
   "source": [
    "def fully_conn(x_tensor, num_outputs):\n",
    "    \"\"\"\n",
    "    Apply a fully connected layer to x_tensor using weight and bias\n",
    "    : x_tensor: A 2-D tensor where the first dimension is batch size.\n",
    "    : num_outputs: The number of output that the new tensor should be.\n",
    "    : return: A 2-D tensor where the second dimension is num_outputs.\n",
    "    \"\"\"\n",
    "    # TODO: Implement Function\n",
    "    \n",
    "    weight = tf.Variable(tf.truncated_normal([x_tensor.shape[1].value,num_outputs],stddev=num_outputs**(-0.5)))\n",
    "    bias = tf.Variable(tf.truncated_normal([num_outputs],stddev=num_outputs**(-0.5)))\n",
    "    \n",
    "    fc_layer = tf.add(tf.matmul(x_tensor,weight),bias)\n",
    "    fc_layer = tf.nn.relu(fc_layer)\n",
    "    \n",
    "    return fc_layer\n",
    "\n",
    "\"\"\"\n",
    "DON'T MODIFY ANYTHING IN THIS CELL THAT IS BELOW THIS LINE\n",
    "\"\"\"\n",
    "tests.test_fully_conn(fully_conn)"
   ]
  },
  {
   "cell_type": "markdown",
   "metadata": {},
   "source": [
    "### Output Layer\n",
    "Implement the `output` function to apply a fully connected layer to `x_tensor` with the shape (*Batch Size*, *num_outputs*). Shortcut option: you can use classes from the [TensorFlow Layers](https://www.tensorflow.org/api_docs/python/tf/layers) or [TensorFlow Layers (contrib)](https://www.tensorflow.org/api_guides/python/contrib.layers) packages for this layer. For more of a challenge, only use other TensorFlow packages.\n",
    "\n",
    "**Note:** Activation, softmax, or cross entropy should **not** be applied to this."
   ]
  },
  {
   "cell_type": "code",
   "execution_count": 11,
   "metadata": {},
   "outputs": [
    {
     "name": "stdout",
     "output_type": "stream",
     "text": [
      "Tests Passed\n"
     ]
    }
   ],
   "source": [
    "def output(x_tensor, num_outputs):\n",
    "    \"\"\"\n",
    "    Apply a output layer to x_tensor using weight and bias\n",
    "    : x_tensor: A 2-D tensor where the first dimension is batch size.\n",
    "    : num_outputs: The number of output that the new tensor should be.\n",
    "    : return: A 2-D tensor where the second dimension is num_outputs.\n",
    "    \"\"\"\n",
    "    weight = tf.Variable(tf.truncated_normal([x_tensor.shape[1].value,num_outputs],stddev=num_outputs**(-0.5)))\n",
    "    bias = tf.Variable(tf.truncated_normal([num_outputs],stddev=num_outputs**(-0.5)))\n",
    "    \n",
    "    fc_layer = tf.add(tf.matmul(x_tensor,weight),bias)\n",
    "    \n",
    "    return fc_layer\n",
    "\n",
    "\"\"\"\n",
    "DON'T MODIFY ANYTHING IN THIS CELL THAT IS BELOW THIS LINE\n",
    "\"\"\"\n",
    "tests.test_output(output)"
   ]
  },
  {
   "cell_type": "markdown",
   "metadata": {},
   "source": [
    "### Create Convolutional Model\n",
    "Implement the function `conv_net` to create a convolutional neural network model. The function takes in a batch of images, `x`, and outputs logits.  Use the layers you created above to create this model:\n",
    "\n",
    "* Apply 1, 2, or 3 Convolution and Max Pool layers\n",
    "* Apply a Flatten Layer\n",
    "* Apply 1, 2, or 3 Fully Connected Layers\n",
    "* Apply an Output Layer\n",
    "* Return the output\n",
    "* Apply [TensorFlow's Dropout](https://www.tensorflow.org/api_docs/python/tf/nn/dropout) to one or more layers in the model using `keep_prob`. "
   ]
  },
  {
   "cell_type": "code",
   "execution_count": 12,
   "metadata": {},
   "outputs": [
    {
     "name": "stdout",
     "output_type": "stream",
     "text": [
      "16384\n",
      "16384\n",
      "Neural Network Built!\n"
     ]
    }
   ],
   "source": [
    "def conv_net(x, keep_prob):\n",
    "    \"\"\"\n",
    "    Create a convolutional neural network model\n",
    "    : x: Placeholder tensor that holds image data.\n",
    "    : keep_prob: Placeholder tensor that hold dropout keep probability.\n",
    "    : return: Tensor that represents logits\n",
    "    \"\"\"\n",
    "    # TODO: Apply 1, 2, or 3 Convolution and Max Pool layers\n",
    "    #    Play around with different number of outputs, kernel size and stride\n",
    "    # Function Definition from Above:\n",
    "    #    conv2d_maxpool(x_tensor, conv_num_outputs, conv_ksize, conv_strides, pool_ksize, pool_strides)\n",
    "    \n",
    "    conv_layer = conv2d_maxpool(x,32,(4,4),(1,1),(1,1),(1,1))    \n",
    "    conv_layer = conv2d_maxpool(conv_layer,64,(2,2),(1,1),(2,2),(2,2))    \n",
    "\n",
    "    # TODO: Apply a Flatten Layer\n",
    "    # Function Definition from Above:\n",
    "    #   flatten(x_tensor)\n",
    "    \n",
    "    conv_layer = flatten(conv_layer)    \n",
    "    \n",
    "    # TODO: Apply 1, 2, or 3 Fully Connected Layers\n",
    "    #    Play around with different number of outputs\n",
    "    # Function Definition from Above:\n",
    "    #   fully_conn(x_tensor, num_outputs)\n",
    "    \n",
    "    print(conv_layer.get_shape().as_list()[1])\n",
    "    \n",
    "    conv_layer = fully_conn(conv_layer,512)\n",
    "    conv_layer = fully_conn(conv_layer,256)\n",
    "    conv_layer = tf.nn.dropout(conv_layer,keep_prob)\n",
    "    \n",
    "    # TODO: Apply an Output Layer\n",
    "    #    Set this to the number of classes\n",
    "    # Function Definition from Above:\n",
    "    #   output(x_tensor, num_outputs)\n",
    "    \n",
    "    output_layer = output(conv_layer,10)\n",
    "    \n",
    "    # TODO: return output\n",
    "    return output_layer\n",
    "\n",
    "\"\"\"\n",
    "DON'T MODIFY ANYTHING IN THIS CELL THAT IS BELOW THIS LINE\n",
    "\"\"\"\n",
    "\n",
    "##############################\n",
    "## Build the Neural Network ##\n",
    "##############################\n",
    "\n",
    "# Remove previous weights, bias, inputs, etc..\n",
    "tf.reset_default_graph()\n",
    "\n",
    "# Inputs\n",
    "x = neural_net_image_input((32, 32, 3))\n",
    "y = neural_net_label_input(10)\n",
    "keep_prob = neural_net_keep_prob_input()\n",
    "\n",
    "# Model\n",
    "logits = conv_net(x, keep_prob)\n",
    "\n",
    "# Name logits Tensor, so that is can be loaded from disk after training\n",
    "logits = tf.identity(logits, name='logits')\n",
    "\n",
    "# Loss and Optimizer\n",
    "cost = tf.reduce_mean(tf.nn.softmax_cross_entropy_with_logits(logits=logits, labels=y))\n",
    "optimizer = tf.train.AdamOptimizer().minimize(cost)\n",
    "\n",
    "# Accuracy\n",
    "correct_pred = tf.equal(tf.argmax(logits, 1), tf.argmax(y, 1))\n",
    "accuracy = tf.reduce_mean(tf.cast(correct_pred, tf.float32), name='accuracy')\n",
    "\n",
    "tests.test_conv_net(conv_net)"
   ]
  },
  {
   "cell_type": "markdown",
   "metadata": {},
   "source": [
    "## Train the Neural Network\n",
    "### Single Optimization\n",
    "Implement the function `train_neural_network` to do a single optimization.  The optimization should use `optimizer` to optimize in `session` with a `feed_dict` of the following:\n",
    "* `x` for image input\n",
    "* `y` for labels\n",
    "* `keep_prob` for keep probability for dropout\n",
    "\n",
    "This function will be called for each batch, so `tf.global_variables_initializer()` has already been called.\n",
    "\n",
    "Note: Nothing needs to be returned. This function is only optimizing the neural network."
   ]
  },
  {
   "cell_type": "code",
   "execution_count": 13,
   "metadata": {},
   "outputs": [
    {
     "name": "stdout",
     "output_type": "stream",
     "text": [
      "Tests Passed\n"
     ]
    }
   ],
   "source": [
    "def train_neural_network(session, optimizer, keep_probability, feature_batch, label_batch):\n",
    "    \"\"\"\n",
    "    Optimize the session on a batch of images and labels\n",
    "    : session: Current TensorFlow session\n",
    "    : optimizer: TensorFlow optimizer function\n",
    "    : keep_probability: keep probability\n",
    "    : feature_batch: Batch of Numpy image data\n",
    "    : label_batch: Batch of Numpy label data\n",
    "    \"\"\"\n",
    "    # TODO: Implement Function\n",
    "    \n",
    "    session.run(optimizer,feed_dict={x:feature_batch,y:label_batch,keep_prob:keep_probability})\n",
    "      \n",
    "\"\"\"\n",
    "DON'T MODIFY ANYTHING IN THIS CELL THAT IS BELOW THIS LINE\n",
    "\"\"\"\n",
    "tests.test_train_nn(train_neural_network)"
   ]
  },
  {
   "cell_type": "markdown",
   "metadata": {},
   "source": [
    "### Show Stats\n",
    "Implement the function `print_stats` to print loss and validation accuracy.  Use the global variables `valid_features` and `valid_labels` to calculate validation accuracy.  Use a keep probability of `1.0` to calculate the loss and validation accuracy."
   ]
  },
  {
   "cell_type": "code",
   "execution_count": 14,
   "metadata": {
    "collapsed": true
   },
   "outputs": [],
   "source": [
    "def print_stats(session, feature_batch, label_batch, cost, accuracy):\n",
    "    \"\"\"\n",
    "    Print information about loss and validation accuracy\n",
    "    : session: Current TensorFlow session\n",
    "    : feature_batch: Batch of Numpy image data\n",
    "    : label_batch: Batch of Numpy label data\n",
    "    : cost: TensorFlow cost function\n",
    "    : accuracy: TensorFlow accuracy function\n",
    "    \"\"\"\n",
    "    # TODO: Implement Function\n",
    "    print_cost = session.run(cost,feed_dict={x:feature_batch,y:label_batch,keep_prob:1.0})\n",
    "    print_accruracy = session.run(accuracy,feed_dict={x:valid_features,y:valid_labels,keep_prob:1.0})\n",
    "    \n",
    "    print (\"Cost : {} / Accuracy : {} \".format(print_cost,print_accruracy))"
   ]
  },
  {
   "cell_type": "markdown",
   "metadata": {},
   "source": [
    "### Hyperparameters\n",
    "Tune the following parameters:\n",
    "* Set `epochs` to the number of iterations until the network stops learning or start overfitting\n",
    "* Set `batch_size` to the highest number that your machine has memory for.  Most people set them to common sizes of memory:\n",
    " * 64\n",
    " * 128\n",
    " * 256\n",
    " * ...\n",
    "* Set `keep_probability` to the probability of keeping a node using dropout"
   ]
  },
  {
   "cell_type": "code",
   "execution_count": 16,
   "metadata": {
    "collapsed": true
   },
   "outputs": [],
   "source": [
    "# TODO: Tune Parameters\n",
    "epochs = 30\n",
    "batch_size = 256\n",
    "keep_probability = 0.5"
   ]
  },
  {
   "cell_type": "markdown",
   "metadata": {},
   "source": [
    "### Train on a Single CIFAR-10 Batch\n",
    "Instead of training the neural network on all the CIFAR-10 batches of data, let's use a single batch. This should save time while you iterate on the model to get a better accuracy.  Once the final validation accuracy is 50% or greater, run the model on all the data in the next section."
   ]
  },
  {
   "cell_type": "code",
   "execution_count": 17,
   "metadata": {},
   "outputs": [
    {
     "name": "stdout",
     "output_type": "stream",
     "text": [
      "Checking the Training on a Single Batch...\n",
      "Epoch  1, CIFAR-10 Batch 1:  Cost : 2.13431978225708 / Accuracy : 0.2667999863624573 \n",
      "Epoch  2, CIFAR-10 Batch 1:  Cost : 1.8152365684509277 / Accuracy : 0.38199999928474426 \n",
      "Epoch  3, CIFAR-10 Batch 1:  Cost : 1.4531306028366089 / Accuracy : 0.42559999227523804 \n",
      "Epoch  4, CIFAR-10 Batch 1:  Cost : 1.1643664836883545 / Accuracy : 0.46379998326301575 \n",
      "Epoch  5, CIFAR-10 Batch 1:  Cost : 0.9314061403274536 / Accuracy : 0.49919992685317993 \n",
      "Epoch  6, CIFAR-10 Batch 1:  Cost : 0.6761283874511719 / Accuracy : 0.5183999538421631 \n",
      "Epoch  7, CIFAR-10 Batch 1:  Cost : 0.5038954615592957 / Accuracy : 0.5135999917984009 \n",
      "Epoch  8, CIFAR-10 Batch 1:  Cost : 0.38677966594696045 / Accuracy : 0.5235999226570129 \n",
      "Epoch  9, CIFAR-10 Batch 1:  Cost : 0.2708825170993805 / Accuracy : 0.5393999218940735 \n",
      "Epoch 10, CIFAR-10 Batch 1:  Cost : 0.23835572600364685 / Accuracy : 0.5301998853683472 \n",
      "Epoch 11, CIFAR-10 Batch 1:  Cost : 0.23373591899871826 / Accuracy : 0.5185999274253845 \n",
      "Epoch 12, CIFAR-10 Batch 1:  Cost : 0.17832130193710327 / Accuracy : 0.539199948310852 \n",
      "Epoch 13, CIFAR-10 Batch 1:  Cost : 0.1279154121875763 / Accuracy : 0.5417999029159546 \n",
      "Epoch 14, CIFAR-10 Batch 1:  Cost : 0.0913250520825386 / Accuracy : 0.53739994764328 \n",
      "Epoch 15, CIFAR-10 Batch 1:  Cost : 0.057502396404743195 / Accuracy : 0.5455999374389648 \n",
      "Epoch 16, CIFAR-10 Batch 1:  Cost : 0.04104628413915634 / Accuracy : 0.5351999402046204 \n",
      "Epoch 17, CIFAR-10 Batch 1:  Cost : 0.035462528467178345 / Accuracy : 0.5333998799324036 \n",
      "Epoch 18, CIFAR-10 Batch 1:  Cost : 0.03509097546339035 / Accuracy : 0.5509998798370361 \n",
      "Epoch 19, CIFAR-10 Batch 1:  Cost : 0.04982752352952957 / Accuracy : 0.5365999341011047 \n",
      "Epoch 20, CIFAR-10 Batch 1:  Cost : 0.01405599620193243 / Accuracy : 0.5531999468803406 \n",
      "Epoch 21, CIFAR-10 Batch 1:  Cost : 0.020744796842336655 / Accuracy : 0.5457999110221863 \n",
      "Epoch 22, CIFAR-10 Batch 1:  Cost : 0.013714216649532318 / Accuracy : 0.53739994764328 \n",
      "Epoch 23, CIFAR-10 Batch 1:  Cost : 0.01134529523551464 / Accuracy : 0.5315999388694763 \n",
      "Epoch 24, CIFAR-10 Batch 1:  Cost : 0.012085288763046265 / Accuracy : 0.5339999794960022 \n",
      "Epoch 25, CIFAR-10 Batch 1:  Cost : 0.00823790580034256 / Accuracy : 0.5293999910354614 \n",
      "Epoch 26, CIFAR-10 Batch 1:  Cost : 0.005140678491443396 / Accuracy : 0.5345999598503113 \n",
      "Epoch 27, CIFAR-10 Batch 1:  Cost : 0.004264320712536573 / Accuracy : 0.5467999577522278 \n",
      "Epoch 28, CIFAR-10 Batch 1:  Cost : 0.0028374348767101765 / Accuracy : 0.5571999549865723 \n",
      "Epoch 29, CIFAR-10 Batch 1:  Cost : 0.00213637575507164 / Accuracy : 0.5643999576568604 \n",
      "Epoch 30, CIFAR-10 Batch 1:  Cost : 0.000897916266694665 / Accuracy : 0.5549999475479126 \n"
     ]
    }
   ],
   "source": [
    "\"\"\"\n",
    "DON'T MODIFY ANYTHING IN THIS CELL\n",
    "\"\"\"\n",
    "print('Checking the Training on a Single Batch...')\n",
    "with tf.Session() as sess:\n",
    "    # Initializing the variables\n",
    "    sess.run(tf.global_variables_initializer())\n",
    "    \n",
    "    # Training cycle\n",
    "    for epoch in range(epochs):\n",
    "        batch_i = 1\n",
    "        for batch_features, batch_labels in helper.load_preprocess_training_batch(batch_i, batch_size):\n",
    "            train_neural_network(sess, optimizer, keep_probability, batch_features, batch_labels)\n",
    "        print('Epoch {:>2}, CIFAR-10 Batch {}:  '.format(epoch + 1, batch_i), end='')\n",
    "        print_stats(sess, batch_features, batch_labels, cost, accuracy)"
   ]
  },
  {
   "cell_type": "markdown",
   "metadata": {},
   "source": [
    "### Fully Train the Model\n",
    "Now that you got a good accuracy with a single CIFAR-10 batch, try it with all five batches."
   ]
  },
  {
   "cell_type": "code",
   "execution_count": 18,
   "metadata": {},
   "outputs": [
    {
     "name": "stdout",
     "output_type": "stream",
     "text": [
      "Training...\n",
      "Epoch  1, CIFAR-10 Batch 1:  Cost : 2.2800700664520264 / Accuracy : 0.15780000388622284 \n",
      "Epoch  1, CIFAR-10 Batch 2:  Cost : 2.0704903602600098 / Accuracy : 0.27559998631477356 \n",
      "Epoch  1, CIFAR-10 Batch 3:  Cost : 1.8565337657928467 / Accuracy : 0.3301999866962433 \n",
      "Epoch  1, CIFAR-10 Batch 4:  Cost : 1.7984817028045654 / Accuracy : 0.3875999450683594 \n",
      "Epoch  1, CIFAR-10 Batch 5:  Cost : 1.7126097679138184 / Accuracy : 0.4375999867916107 \n",
      "Epoch  2, CIFAR-10 Batch 1:  Cost : 1.6528456211090088 / Accuracy : 0.4537999927997589 \n",
      "Epoch  2, CIFAR-10 Batch 2:  Cost : 1.4696011543273926 / Accuracy : 0.49399998784065247 \n",
      "Epoch  2, CIFAR-10 Batch 3:  Cost : 1.287018060684204 / Accuracy : 0.4859999418258667 \n",
      "Epoch  2, CIFAR-10 Batch 4:  Cost : 1.2617907524108887 / Accuracy : 0.5287999510765076 \n",
      "Epoch  2, CIFAR-10 Batch 5:  Cost : 1.1781198978424072 / Accuracy : 0.5423998832702637 \n",
      "Epoch  3, CIFAR-10 Batch 1:  Cost : 1.119077444076538 / Accuracy : 0.5149999856948853 \n",
      "Epoch  3, CIFAR-10 Batch 2:  Cost : 1.0380241870880127 / Accuracy : 0.5201999545097351 \n",
      "Epoch  3, CIFAR-10 Batch 3:  Cost : 0.9590071439743042 / Accuracy : 0.5521999597549438 \n",
      "Epoch  3, CIFAR-10 Batch 4:  Cost : 0.8946207761764526 / Accuracy : 0.5695999264717102 \n",
      "Epoch  3, CIFAR-10 Batch 5:  Cost : 0.8382911086082458 / Accuracy : 0.5773999691009521 \n",
      "Epoch  4, CIFAR-10 Batch 1:  Cost : 0.8406023979187012 / Accuracy : 0.5845999717712402 \n",
      "Epoch  4, CIFAR-10 Batch 2:  Cost : 0.7199368476867676 / Accuracy : 0.5945999622344971 \n",
      "Epoch  4, CIFAR-10 Batch 3:  Cost : 0.6112823486328125 / Accuracy : 0.5957999229431152 \n",
      "Epoch  4, CIFAR-10 Batch 4:  Cost : 0.697796106338501 / Accuracy : 0.6027999520301819 \n",
      "Epoch  4, CIFAR-10 Batch 5:  Cost : 0.5598539113998413 / Accuracy : 0.6089999675750732 \n",
      "Epoch  5, CIFAR-10 Batch 1:  Cost : 0.6789522767066956 / Accuracy : 0.6127999424934387 \n",
      "Epoch  5, CIFAR-10 Batch 2:  Cost : 0.5288176536560059 / Accuracy : 0.608799934387207 \n",
      "Epoch  5, CIFAR-10 Batch 3:  Cost : 0.40108606219291687 / Accuracy : 0.6155999302864075 \n",
      "Epoch  5, CIFAR-10 Batch 4:  Cost : 0.5706080794334412 / Accuracy : 0.6017999053001404 \n",
      "Epoch  5, CIFAR-10 Batch 5:  Cost : 0.38583046197891235 / Accuracy : 0.6061999201774597 \n",
      "Epoch  6, CIFAR-10 Batch 1:  Cost : 0.5151772499084473 / Accuracy : 0.6231999397277832 \n",
      "Epoch  6, CIFAR-10 Batch 2:  Cost : 0.3774610161781311 / Accuracy : 0.6111999154090881 \n",
      "Epoch  6, CIFAR-10 Batch 3:  Cost : 0.31598955392837524 / Accuracy : 0.6161999106407166 \n",
      "Epoch  6, CIFAR-10 Batch 4:  Cost : 0.42717069387435913 / Accuracy : 0.6251999735832214 \n",
      "Epoch  6, CIFAR-10 Batch 5:  Cost : 0.299655020236969 / Accuracy : 0.6349999308586121 \n",
      "Epoch  7, CIFAR-10 Batch 1:  Cost : 0.38704174757003784 / Accuracy : 0.6241999268531799 \n",
      "Epoch  7, CIFAR-10 Batch 2:  Cost : 0.2550394535064697 / Accuracy : 0.6411999464035034 \n",
      "Epoch  7, CIFAR-10 Batch 3:  Cost : 0.21832527220249176 / Accuracy : 0.6201999187469482 \n",
      "Epoch  7, CIFAR-10 Batch 4:  Cost : 0.30318960547447205 / Accuracy : 0.6333999633789062 \n",
      "Epoch  7, CIFAR-10 Batch 5:  Cost : 0.19234710931777954 / Accuracy : 0.6399998664855957 \n",
      "Epoch  8, CIFAR-10 Batch 1:  Cost : 0.27774715423583984 / Accuracy : 0.6425999402999878 \n",
      "Epoch  8, CIFAR-10 Batch 2:  Cost : 0.1973707377910614 / Accuracy : 0.6453998684883118 \n",
      "Epoch  8, CIFAR-10 Batch 3:  Cost : 0.13837209343910217 / Accuracy : 0.6165999174118042 \n",
      "Epoch  8, CIFAR-10 Batch 4:  Cost : 0.21728238463401794 / Accuracy : 0.6409998536109924 \n",
      "Epoch  8, CIFAR-10 Batch 5:  Cost : 0.1336018443107605 / Accuracy : 0.6371998190879822 \n",
      "Epoch  9, CIFAR-10 Batch 1:  Cost : 0.21229833364486694 / Accuracy : 0.6385998129844666 \n",
      "Epoch  9, CIFAR-10 Batch 2:  Cost : 0.13156317174434662 / Accuracy : 0.6423999071121216 \n",
      "Epoch  9, CIFAR-10 Batch 3:  Cost : 0.08016970753669739 / Accuracy : 0.6397998929023743 \n",
      "Epoch  9, CIFAR-10 Batch 4:  Cost : 0.1256941705942154 / Accuracy : 0.6529998779296875 \n",
      "Epoch  9, CIFAR-10 Batch 5:  Cost : 0.10508430749177933 / Accuracy : 0.639799952507019 \n",
      "Epoch 10, CIFAR-10 Batch 1:  Cost : 0.13016736507415771 / Accuracy : 0.6375998854637146 \n",
      "Epoch 10, CIFAR-10 Batch 2:  Cost : 0.07514256238937378 / Accuracy : 0.6351999044418335 \n",
      "Epoch 10, CIFAR-10 Batch 3:  Cost : 0.06058867275714874 / Accuracy : 0.6253999471664429 \n",
      "Epoch 10, CIFAR-10 Batch 4:  Cost : 0.09355469793081284 / Accuracy : 0.6557998657226562 \n",
      "Epoch 10, CIFAR-10 Batch 5:  Cost : 0.07003878802061081 / Accuracy : 0.6483998894691467 \n",
      "Epoch 11, CIFAR-10 Batch 1:  Cost : 0.11705928295850754 / Accuracy : 0.6375998854637146 \n",
      "Epoch 11, CIFAR-10 Batch 2:  Cost : 0.053228121250867844 / Accuracy : 0.6397998929023743 \n",
      "Epoch 11, CIFAR-10 Batch 3:  Cost : 0.04125654697418213 / Accuracy : 0.6419998407363892 \n",
      "Epoch 11, CIFAR-10 Batch 4:  Cost : 0.07403290271759033 / Accuracy : 0.6461998820304871 \n",
      "Epoch 11, CIFAR-10 Batch 5:  Cost : 0.02963329292833805 / Accuracy : 0.6481999158859253 \n",
      "Epoch 12, CIFAR-10 Batch 1:  Cost : 0.08359067142009735 / Accuracy : 0.6395999193191528 \n",
      "Epoch 12, CIFAR-10 Batch 2:  Cost : 0.02824009209871292 / Accuracy : 0.6387998461723328 \n",
      "Epoch 12, CIFAR-10 Batch 3:  Cost : 0.02862604334950447 / Accuracy : 0.6483998894691467 \n",
      "Epoch 12, CIFAR-10 Batch 4:  Cost : 0.038315124809741974 / Accuracy : 0.6413999199867249 \n",
      "Epoch 12, CIFAR-10 Batch 5:  Cost : 0.02621074765920639 / Accuracy : 0.6377999186515808 \n",
      "Epoch 13, CIFAR-10 Batch 1:  Cost : 0.04977279156446457 / Accuracy : 0.640799880027771 \n",
      "Epoch 13, CIFAR-10 Batch 2:  Cost : 0.02520010434091091 / Accuracy : 0.6329999566078186 \n",
      "Epoch 13, CIFAR-10 Batch 3:  Cost : 0.021016236394643784 / Accuracy : 0.6431999206542969 \n",
      "Epoch 13, CIFAR-10 Batch 4:  Cost : 0.027709435671567917 / Accuracy : 0.6355999112129211 \n",
      "Epoch 13, CIFAR-10 Batch 5:  Cost : 0.020332569256424904 / Accuracy : 0.642799973487854 \n",
      "Epoch 14, CIFAR-10 Batch 1:  Cost : 0.020948737859725952 / Accuracy : 0.6441999077796936 \n",
      "Epoch 14, CIFAR-10 Batch 2:  Cost : 0.041171204298734665 / Accuracy : 0.6235998868942261 \n",
      "Epoch 14, CIFAR-10 Batch 3:  Cost : 0.03671756386756897 / Accuracy : 0.6287999153137207 \n",
      "Epoch 14, CIFAR-10 Batch 4:  Cost : 0.033537767827510834 / Accuracy : 0.6293998956680298 \n",
      "Epoch 14, CIFAR-10 Batch 5:  Cost : 0.011567526496946812 / Accuracy : 0.6405999064445496 \n",
      "Epoch 15, CIFAR-10 Batch 1:  Cost : 0.02296253852546215 / Accuracy : 0.6409999132156372 \n",
      "Epoch 15, CIFAR-10 Batch 2:  Cost : 0.012005720287561417 / Accuracy : 0.6429998874664307 \n",
      "Epoch 15, CIFAR-10 Batch 3:  Cost : 0.017092188820242882 / Accuracy : 0.6589998602867126 \n",
      "Epoch 15, CIFAR-10 Batch 4:  Cost : 0.015873119235038757 / Accuracy : 0.6319998502731323 \n",
      "Epoch 15, CIFAR-10 Batch 5:  Cost : 0.008345081470906734 / Accuracy : 0.6367999315261841 \n",
      "Epoch 16, CIFAR-10 Batch 1:  Cost : 0.015635112300515175 / Accuracy : 0.6395998597145081 \n",
      "Epoch 16, CIFAR-10 Batch 2:  Cost : 0.005196686834096909 / Accuracy : 0.6387999057769775 \n",
      "Epoch 16, CIFAR-10 Batch 3:  Cost : 0.005849278066307306 / Accuracy : 0.6471998691558838 \n",
      "Epoch 16, CIFAR-10 Batch 4:  Cost : 0.007919897325336933 / Accuracy : 0.6271998882293701 \n",
      "Epoch 16, CIFAR-10 Batch 5:  Cost : 0.0031938026659190655 / Accuracy : 0.6459998488426208 \n",
      "Epoch 17, CIFAR-10 Batch 1:  Cost : 0.012416988611221313 / Accuracy : 0.6289999485015869 \n",
      "Epoch 17, CIFAR-10 Batch 2:  Cost : 0.005310110282152891 / Accuracy : 0.6207999587059021 \n",
      "Epoch 17, CIFAR-10 Batch 3:  Cost : 0.00469576008617878 / Accuracy : 0.6489998698234558 \n",
      "Epoch 17, CIFAR-10 Batch 4:  Cost : 0.007136058993637562 / Accuracy : 0.6357998847961426 \n",
      "Epoch 17, CIFAR-10 Batch 5:  Cost : 0.004296367056667805 / Accuracy : 0.6347998976707458 \n",
      "Epoch 18, CIFAR-10 Batch 1:  Cost : 0.011215672828257084 / Accuracy : 0.6267999410629272 \n",
      "Epoch 18, CIFAR-10 Batch 2:  Cost : 0.0013065182138234377 / Accuracy : 0.6435998678207397 \n",
      "Epoch 18, CIFAR-10 Batch 3:  Cost : 0.0023945814464241266 / Accuracy : 0.6531999111175537 \n",
      "Epoch 18, CIFAR-10 Batch 4:  Cost : 0.004494887311011553 / Accuracy : 0.6347998976707458 \n",
      "Epoch 18, CIFAR-10 Batch 5:  Cost : 0.003171354066580534 / Accuracy : 0.6317999362945557 \n",
      "Epoch 19, CIFAR-10 Batch 1:  Cost : 0.003715093247592449 / Accuracy : 0.6403998732566833 \n",
      "Epoch 19, CIFAR-10 Batch 2:  Cost : 0.0009958951268345118 / Accuracy : 0.6351999044418335 \n"
     ]
    },
    {
     "name": "stdout",
     "output_type": "stream",
     "text": [
      "Epoch 19, CIFAR-10 Batch 3:  Cost : 0.0007548189023509622 / Accuracy : 0.6469998359680176 \n",
      "Epoch 19, CIFAR-10 Batch 4:  Cost : 0.0017213510582223535 / Accuracy : 0.6417999267578125 \n",
      "Epoch 19, CIFAR-10 Batch 5:  Cost : 0.0010905866511166096 / Accuracy : 0.6361998915672302 \n",
      "Epoch 20, CIFAR-10 Batch 1:  Cost : 0.004160769283771515 / Accuracy : 0.6343998908996582 \n",
      "Epoch 20, CIFAR-10 Batch 2:  Cost : 0.004014624748378992 / Accuracy : 0.6321998834609985 \n",
      "Epoch 20, CIFAR-10 Batch 3:  Cost : 0.00044300867011770606 / Accuracy : 0.6479998826980591 \n",
      "Epoch 20, CIFAR-10 Batch 4:  Cost : 0.0015011148061603308 / Accuracy : 0.6501998901367188 \n",
      "Epoch 20, CIFAR-10 Batch 5:  Cost : 0.0015925666084513068 / Accuracy : 0.6403999328613281 \n",
      "Epoch 21, CIFAR-10 Batch 1:  Cost : 0.006118494551628828 / Accuracy : 0.6405999064445496 \n",
      "Epoch 21, CIFAR-10 Batch 2:  Cost : 0.0005265442887321115 / Accuracy : 0.6399998664855957 \n",
      "Epoch 21, CIFAR-10 Batch 3:  Cost : 0.000405387778300792 / Accuracy : 0.6403999328613281 \n",
      "Epoch 21, CIFAR-10 Batch 4:  Cost : 0.0007326588383875787 / Accuracy : 0.6405999660491943 \n",
      "Epoch 21, CIFAR-10 Batch 5:  Cost : 0.0043849521316587925 / Accuracy : 0.6321998834609985 \n",
      "Epoch 22, CIFAR-10 Batch 1:  Cost : 0.0011173983803018928 / Accuracy : 0.637999951839447 \n",
      "Epoch 22, CIFAR-10 Batch 2:  Cost : 0.0005121727008372545 / Accuracy : 0.637199878692627 \n",
      "Epoch 22, CIFAR-10 Batch 3:  Cost : 0.00027911673532798886 / Accuracy : 0.6519998908042908 \n",
      "Epoch 22, CIFAR-10 Batch 4:  Cost : 0.0017577368998900056 / Accuracy : 0.643799901008606 \n",
      "Epoch 22, CIFAR-10 Batch 5:  Cost : 0.0014718635939061642 / Accuracy : 0.6401998996734619 \n",
      "Epoch 23, CIFAR-10 Batch 1:  Cost : 0.0008300599292851985 / Accuracy : 0.6287999153137207 \n",
      "Epoch 23, CIFAR-10 Batch 2:  Cost : 0.0008499847026541829 / Accuracy : 0.6301999092102051 \n",
      "Epoch 23, CIFAR-10 Batch 3:  Cost : 0.00014513678615912795 / Accuracy : 0.6489998698234558 \n",
      "Epoch 23, CIFAR-10 Batch 4:  Cost : 0.0006173343281261623 / Accuracy : 0.6421998739242554 \n",
      "Epoch 23, CIFAR-10 Batch 5:  Cost : 0.000366325955837965 / Accuracy : 0.6351999640464783 \n",
      "Epoch 24, CIFAR-10 Batch 1:  Cost : 0.00042957335244864225 / Accuracy : 0.6373998522758484 \n",
      "Epoch 24, CIFAR-10 Batch 2:  Cost : 0.0007204822031781077 / Accuracy : 0.6451998949050903 \n",
      "Epoch 24, CIFAR-10 Batch 3:  Cost : 0.00011447107681306079 / Accuracy : 0.6495998501777649 \n",
      "Epoch 24, CIFAR-10 Batch 4:  Cost : 0.0008522782591171563 / Accuracy : 0.6395999193191528 \n",
      "Epoch 24, CIFAR-10 Batch 5:  Cost : 0.015315605327486992 / Accuracy : 0.6441998481750488 \n",
      "Epoch 25, CIFAR-10 Batch 1:  Cost : 0.000311719166347757 / Accuracy : 0.6281999349594116 \n",
      "Epoch 25, CIFAR-10 Batch 2:  Cost : 0.0002499121183063835 / Accuracy : 0.6383998990058899 \n",
      "Epoch 25, CIFAR-10 Batch 3:  Cost : 0.000343902240274474 / Accuracy : 0.6517998576164246 \n",
      "Epoch 25, CIFAR-10 Batch 4:  Cost : 0.00042261191993020475 / Accuracy : 0.6381999254226685 \n",
      "Epoch 25, CIFAR-10 Batch 5:  Cost : 0.0008677407749928534 / Accuracy : 0.6397998929023743 \n",
      "Epoch 26, CIFAR-10 Batch 1:  Cost : 0.000891436415258795 / Accuracy : 0.6185998916625977 \n",
      "Epoch 26, CIFAR-10 Batch 2:  Cost : 0.0001222725841216743 / Accuracy : 0.6403998732566833 \n",
      "Epoch 26, CIFAR-10 Batch 3:  Cost : 7.074794120853767e-05 / Accuracy : 0.6591998338699341 \n",
      "Epoch 26, CIFAR-10 Batch 4:  Cost : 0.0001806011568987742 / Accuracy : 0.6533998847007751 \n",
      "Epoch 26, CIFAR-10 Batch 5:  Cost : 0.0002721998898778111 / Accuracy : 0.6563999056816101 \n",
      "Epoch 27, CIFAR-10 Batch 1:  Cost : 0.0009022580343298614 / Accuracy : 0.6291998624801636 \n",
      "Epoch 27, CIFAR-10 Batch 2:  Cost : 0.0004835423023905605 / Accuracy : 0.6369998455047607 \n",
      "Epoch 27, CIFAR-10 Batch 3:  Cost : 0.002626047469675541 / Accuracy : 0.6475998759269714 \n",
      "Epoch 27, CIFAR-10 Batch 4:  Cost : 0.00046360466512851417 / Accuracy : 0.6427999138832092 \n",
      "Epoch 27, CIFAR-10 Batch 5:  Cost : 0.00013733019295614213 / Accuracy : 0.6427998542785645 \n",
      "Epoch 28, CIFAR-10 Batch 1:  Cost : 0.003486035158857703 / Accuracy : 0.6409999132156372 \n",
      "Epoch 28, CIFAR-10 Batch 2:  Cost : 0.0032301926985383034 / Accuracy : 0.6455998420715332 \n",
      "Epoch 28, CIFAR-10 Batch 3:  Cost : 0.0002548656484577805 / Accuracy : 0.6541999578475952 \n",
      "Epoch 28, CIFAR-10 Batch 4:  Cost : 0.0024939249269664288 / Accuracy : 0.6337998509407043 \n",
      "Epoch 28, CIFAR-10 Batch 5:  Cost : 0.0002194643602706492 / Accuracy : 0.6505999565124512 \n",
      "Epoch 29, CIFAR-10 Batch 1:  Cost : 0.00021723286772612482 / Accuracy : 0.6513999104499817 \n",
      "Epoch 29, CIFAR-10 Batch 2:  Cost : 8.322337816935033e-05 / Accuracy : 0.6417998671531677 \n",
      "Epoch 29, CIFAR-10 Batch 3:  Cost : 0.0004144827835261822 / Accuracy : 0.650399923324585 \n",
      "Epoch 29, CIFAR-10 Batch 4:  Cost : 0.00020555706578306854 / Accuracy : 0.6445998549461365 \n",
      "Epoch 29, CIFAR-10 Batch 5:  Cost : 0.00020442869572434574 / Accuracy : 0.6551998853683472 \n",
      "Epoch 30, CIFAR-10 Batch 1:  Cost : 0.0002630616072565317 / Accuracy : 0.6445999145507812 \n",
      "Epoch 30, CIFAR-10 Batch 2:  Cost : 0.00019834960403386503 / Accuracy : 0.6377999186515808 \n",
      "Epoch 30, CIFAR-10 Batch 3:  Cost : 3.2974952773656696e-05 / Accuracy : 0.650999903678894 \n",
      "Epoch 30, CIFAR-10 Batch 4:  Cost : 0.000525119190569967 / Accuracy : 0.637199878692627 \n",
      "Epoch 30, CIFAR-10 Batch 5:  Cost : 0.00013567104178946465 / Accuracy : 0.6481998562812805 \n"
     ]
    }
   ],
   "source": [
    "\"\"\"\n",
    "DON'T MODIFY ANYTHING IN THIS CELL\n",
    "\"\"\"\n",
    "save_model_path = './image_classification'\n",
    "\n",
    "print('Training...')\n",
    "with tf.Session() as sess:\n",
    "    # Initializing the variables\n",
    "    sess.run(tf.global_variables_initializer())\n",
    "    \n",
    "    # Training cycle\n",
    "    for epoch in range(epochs):\n",
    "        # Loop over all batches\n",
    "        n_batches = 5\n",
    "        for batch_i in range(1, n_batches + 1):\n",
    "            for batch_features, batch_labels in helper.load_preprocess_training_batch(batch_i, batch_size):\n",
    "                train_neural_network(sess, optimizer, keep_probability, batch_features, batch_labels)\n",
    "            print('Epoch {:>2}, CIFAR-10 Batch {}:  '.format(epoch + 1, batch_i), end='')\n",
    "            print_stats(sess, batch_features, batch_labels, cost, accuracy)\n",
    "            \n",
    "    # Save Model\n",
    "    saver = tf.train.Saver()\n",
    "    save_path = saver.save(sess, save_model_path)"
   ]
  },
  {
   "cell_type": "markdown",
   "metadata": {},
   "source": [
    "# Checkpoint\n",
    "The model has been saved to disk.\n",
    "## Test Model\n",
    "Test your model against the test dataset.  This will be your final accuracy. You should have an accuracy greater than 50%. If you don't, keep tweaking the model architecture and parameters."
   ]
  },
  {
   "cell_type": "code",
   "execution_count": 26,
   "metadata": {},
   "outputs": [
    {
     "name": "stdout",
     "output_type": "stream",
     "text": [
      "INFO:tensorflow:Restoring parameters from ./image_classification\n",
      "Testing Accuracy: 0.6509765625\n",
      "\n"
     ]
    },
    {
     "data": {
      "image/png": "[encoded data removed]",
      "text/plain": [
       "<matplotlib.figure.Figure at 0x7fc26e110d68>"
      ]
     },
     "metadata": {
      "image/png": {
       "height": 319,
       "width": 355
      }
     },
     "output_type": "display_data"
    }
   ],
   "source": [
    "\"\"\"\n",
    "DON'T MODIFY ANYTHING IN THIS CELL\n",
    "\"\"\"\n",
    "%matplotlib inline\n",
    "%config InlineBackend.figure_format = 'retina'\n",
    "\n",
    "import tensorflow as tf\n",
    "import pickle\n",
    "import helper\n",
    "import random\n",
    "\n",
    "# Set batch size if not already set\n",
    "try:\n",
    "    if batch_size:\n",
    "        pass\n",
    "except NameError:\n",
    "    batch_size = 64\n",
    "\n",
    "save_model_path = './image_classification'\n",
    "n_samples = 4\n",
    "top_n_predictions = 3\n",
    "\n",
    "def test_model():\n",
    "    \"\"\"\n",
    "    Test the saved model against the test dataset\n",
    "    \"\"\"\n",
    "\n",
    "    test_features, test_labels = pickle.load(open('./preprocess_test.p', mode='rb'))\n",
    "    loaded_graph = tf.Graph()\n",
    "\n",
    "    with tf.Session(graph=loaded_graph) as sess:\n",
    "        # Load model\n",
    "        loader = tf.train.import_meta_graph(save_model_path + '.meta')\n",
    "        loader.restore(sess, save_model_path)\n",
    "\n",
    "        # Get Tensors from loaded model\n",
    "        loaded_x = loaded_graph.get_tensor_by_name('x:0')\n",
    "        loaded_y = loaded_graph.get_tensor_by_name('y:0')\n",
    "        loaded_keep_prob = loaded_graph.get_tensor_by_name('keep_prob:0')\n",
    "        loaded_logits = loaded_graph.get_tensor_by_name('logits:0')\n",
    "        loaded_acc = loaded_graph.get_tensor_by_name('accuracy:0')\n",
    "        \n",
    "        # Get accuracy in batches for memory limitations\n",
    "        test_batch_acc_total = 0\n",
    "        test_batch_count = 0\n",
    "        \n",
    "        for test_feature_batch, test_label_batch in helper.batch_features_labels(test_features, test_labels, batch_size):\n",
    "            test_batch_acc_total += sess.run(\n",
    "                loaded_acc,\n",
    "                feed_dict={loaded_x: test_feature_batch, loaded_y: test_label_batch, loaded_keep_prob: 1.0})\n",
    "            test_batch_count += 1\n",
    "\n",
    "        print('Testing Accuracy: {}\\n'.format(test_batch_acc_total/test_batch_count))\n",
    "\n",
    "        # Print Random Samples\n",
    "        random_test_features, random_test_labels = tuple(zip(*random.sample(list(zip(test_features, test_labels)), n_samples)))\n",
    "        random_test_predictions = sess.run(\n",
    "            tf.nn.top_k(tf.nn.softmax(loaded_logits), top_n_predictions),\n",
    "            feed_dict={loaded_x: random_test_features, loaded_y: random_test_labels, loaded_keep_prob: 1.0})\n",
    "        helper.display_image_predictions(random_test_features, random_test_labels, random_test_predictions)\n",
    "\n",
    "\n",
    "test_model()"
   ]
  },
  {
   "cell_type": "markdown",
   "metadata": {},
   "source": [
    "## Why 50-80% Accuracy?\n",
    "You might be wondering why you can't get an accuracy any higher. First things first, 50% isn't bad for a simple CNN.  Pure guessing would get you 10% accuracy. However, you might notice people are getting scores [well above 80%](http://rodrigob.github.io/are_we_there_yet/build/classification_datasets_results.html#43494641522d3130).  That's because we haven't taught you all there is to know about neural networks. We still need to cover a few more techniques.\n",
    "## Submitting This Project\n",
    "When submitting this project, make sure to run all the cells before saving the notebook.  Save the notebook file as \"dlnd_image_classification.ipynb\" and save it as a HTML file under \"File\" -> \"Download as\".  Include the \"helper.py\" and \"problem_unittests.py\" files in your submission."
   ]
  }
 ],
 "metadata": {
  "anaconda-cloud": {},
  "kernelspec": {
   "display_name": "Python 3",
   "language": "python",
   "name": "python3"
  },
  "language_info": {
   "codemirror_mode": {
    "name": "ipython",
    "version": 3
   },
   "file_extension": ".py",
   "mimetype": "text/x-python",
   "name": "python",
   "nbconvert_exporter": "python",
   "pygments_lexer": "ipython3",
   "version": "3.5.3"
  }
 },
 "nbformat": 4,
 "nbformat_minor": 1
}
